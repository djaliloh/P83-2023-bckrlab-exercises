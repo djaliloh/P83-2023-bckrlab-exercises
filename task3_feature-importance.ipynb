{
 "cells": [
  {
   "attachments": {},
   "cell_type": "markdown",
   "id": "d037a6f6-8f80-4bf5-99bc-2efd4f6e8d29",
   "metadata": {},
   "source": [
    "# Task 3: Feature importance"
   ]
  },
  {
   "cell_type": "code",
   "execution_count": 110,
   "id": "ecd7073c-4e04-4219-b1f4-f1b6c88a5707",
   "metadata": {
    "tags": []
   },
   "outputs": [],
   "source": [
    "import pickle\n",
    "import numpy as np\n",
    "import pandas as pd\n",
    "from sklearn.datasets import make_regression\n",
    "from sklearn.linear_model import RidgeCV\n",
    "from scipy.stats import pearsonr"
   ]
  },
  {
   "attachments": {},
   "cell_type": "markdown",
   "id": "68577b4e-0792-4e99-9759-94daa126f736",
   "metadata": {},
   "source": [
    "## Load data"
   ]
  },
  {
   "cell_type": "code",
   "execution_count": 148,
   "id": "39648f19-a15c-491f-99d8-82f4fb16ff33",
   "metadata": {
    "tags": []
   },
   "outputs": [],
   "source": [
    "with open(\"./task3_feature-importance_data.pickle\", \"rb\") as f:\n",
    "    X, y = pickle.load(f)"
   ]
  },
  {
   "attachments": {},
   "cell_type": "markdown",
   "id": "908439a8-7034-4858-bd22-3c4d1778ce99",
   "metadata": {},
   "source": [
    "## Fit model"
   ]
  },
  {
   "cell_type": "code",
   "execution_count": 149,
   "id": "19f20262-9fae-49dd-980a-b5cf20ffebdc",
   "metadata": {
    "tags": []
   },
   "outputs": [
    {
     "data": {
      "text/plain": [
       "RidgeCV(alphas=array([ 0.1,  1. , 10. ]))"
      ]
     },
     "execution_count": 149,
     "metadata": {},
     "output_type": "execute_result"
    }
   ],
   "source": [
    "model = RidgeCV()\n",
    "model.fit(X, y)"
   ]
  },
  {
   "attachments": {},
   "cell_type": "markdown",
   "id": "dbd04307-8af6-4210-b49d-7c1628c4d83f",
   "metadata": {},
   "source": [
    "## Analyse correlations and model coefficients"
   ]
  },
  {
   "cell_type": "code",
   "execution_count": 150,
   "id": "42111095-046a-4a95-8776-54fea339491a",
   "metadata": {
    "tags": []
   },
   "outputs": [],
   "source": [
    "correlations_r = [pearsonr(X[:, i], y)[0] for i in range(X.shape[1])]\n",
    "correlations_p = [pearsonr(X[:, i], y)[1] for i in range(X.shape[1])]\n",
    "    "
   ]
  },
  {
   "cell_type": "code",
   "execution_count": 151,
   "id": "655032af-d823-45a6-a9db-579408e34221",
   "metadata": {
    "tags": []
   },
   "outputs": [
    {
     "data": {
      "text/html": [
       "<div>\n",
       "<style scoped>\n",
       "    .dataframe tbody tr th:only-of-type {\n",
       "        vertical-align: middle;\n",
       "    }\n",
       "\n",
       "    .dataframe tbody tr th {\n",
       "        vertical-align: top;\n",
       "    }\n",
       "\n",
       "    .dataframe thead th {\n",
       "        text-align: right;\n",
       "    }\n",
       "</style>\n",
       "<table border=\"1\" class=\"dataframe\">\n",
       "  <thead>\n",
       "    <tr style=\"text-align: right;\">\n",
       "      <th></th>\n",
       "      <th>coef</th>\n",
       "      <th>correlation r</th>\n",
       "      <th>correlation p</th>\n",
       "    </tr>\n",
       "  </thead>\n",
       "  <tbody>\n",
       "    <tr>\n",
       "      <th>feature 0</th>\n",
       "      <td>7.025404</td>\n",
       "      <td>0.188073</td>\n",
       "      <td>6.095162e-02</td>\n",
       "    </tr>\n",
       "    <tr>\n",
       "      <th>feature 1</th>\n",
       "      <td>2.377854</td>\n",
       "      <td>0.092541</td>\n",
       "      <td>3.598008e-01</td>\n",
       "    </tr>\n",
       "    <tr>\n",
       "      <th>feature 2</th>\n",
       "      <td>33.485614</td>\n",
       "      <td>0.138256</td>\n",
       "      <td>1.701322e-01</td>\n",
       "    </tr>\n",
       "    <tr>\n",
       "      <th>feature 3</th>\n",
       "      <td>78.315351</td>\n",
       "      <td>0.569326</td>\n",
       "      <td>6.374702e-10</td>\n",
       "    </tr>\n",
       "    <tr>\n",
       "      <th>feature 4</th>\n",
       "      <td>79.870733</td>\n",
       "      <td>0.523729</td>\n",
       "      <td>2.252291e-08</td>\n",
       "    </tr>\n",
       "    <tr>\n",
       "      <th>feature 5</th>\n",
       "      <td>-3.739370</td>\n",
       "      <td>-0.105416</td>\n",
       "      <td>2.965699e-01</td>\n",
       "    </tr>\n",
       "    <tr>\n",
       "      <th>feature 6</th>\n",
       "      <td>-2.360193</td>\n",
       "      <td>-0.129693</td>\n",
       "      <td>1.984219e-01</td>\n",
       "    </tr>\n",
       "    <tr>\n",
       "      <th>feature 7</th>\n",
       "      <td>32.780314</td>\n",
       "      <td>0.141958</td>\n",
       "      <td>1.588725e-01</td>\n",
       "    </tr>\n",
       "    <tr>\n",
       "      <th>feature 8</th>\n",
       "      <td>38.077457</td>\n",
       "      <td>0.030352</td>\n",
       "      <td>7.643480e-01</td>\n",
       "    </tr>\n",
       "    <tr>\n",
       "      <th>feature 9</th>\n",
       "      <td>-4.928516</td>\n",
       "      <td>-0.020712</td>\n",
       "      <td>8.379320e-01</td>\n",
       "    </tr>\n",
       "  </tbody>\n",
       "</table>\n",
       "</div>"
      ],
      "text/plain": [
       "                coef  correlation r  correlation p\n",
       "feature 0   7.025404       0.188073   6.095162e-02\n",
       "feature 1   2.377854       0.092541   3.598008e-01\n",
       "feature 2  33.485614       0.138256   1.701322e-01\n",
       "feature 3  78.315351       0.569326   6.374702e-10\n",
       "feature 4  79.870733       0.523729   2.252291e-08\n",
       "feature 5  -3.739370      -0.105416   2.965699e-01\n",
       "feature 6  -2.360193      -0.129693   1.984219e-01\n",
       "feature 7  32.780314       0.141958   1.588725e-01\n",
       "feature 8  38.077457       0.030352   7.643480e-01\n",
       "feature 9  -4.928516      -0.020712   8.379320e-01"
      ]
     },
     "execution_count": 151,
     "metadata": {},
     "output_type": "execute_result"
    }
   ],
   "source": [
    "df = pd.DataFrame({\n",
    "        \"coef\": model.coef_, \n",
    "        \"correlation r\": correlations_r, \n",
    "        \"correlation p\": correlations_p}, \n",
    "    index=[f\"feature {i}\" for i in range(X.shape[1])])\n",
    "df"
   ]
  },
  {
   "cell_type": "code",
   "execution_count": 152,
   "id": "f2174c0c-5482-4f6b-82e8-e57aa9704550",
   "metadata": {
    "tags": []
   },
   "outputs": [
    {
     "data": {
      "text/plain": [
       "(array([0., 1.]), array([0., 1.]))"
      ]
     },
     "execution_count": 152,
     "metadata": {},
     "output_type": "execute_result"
    }
   ],
   "source": [
    "# feature 7 and 8 are binary\n",
    "np.unique(X[:,7]), np.unique(X[:,8])"
   ]
  },
  {
   "cell_type": "code",
   "execution_count": 154,
   "id": "94e191b4-3043-48c8-9ce2-9da4a5b268c2",
   "metadata": {
    "tags": []
   },
   "outputs": [
    {
     "data": {
      "text/plain": [
       "0"
      ]
     },
     "execution_count": 154,
     "metadata": {},
     "output_type": "execute_result"
    }
   ],
   "source": [
    "# feature 7 and 8 are mutually exclusive\n",
    "((X[:,7] == 1) & (X[:,8] == 1)).sum()"
   ]
  },
  {
   "cell_type": "code",
   "execution_count": 155,
   "id": "f57fa0f9-ad96-4fe7-a8ed-b6c9b39507ed",
   "metadata": {
    "tags": []
   },
   "outputs": [
    {
     "data": {
      "text/plain": [
       "0.9"
      ]
     },
     "execution_count": 155,
     "metadata": {},
     "output_type": "execute_result"
    }
   ],
   "source": [
    "# feature 7 and 8 nearly cover the whole dataset!\n",
    "((X[:,7] == 1) | (X[:,8] == 1)).sum() / X.shape[0]"
   ]
  },
  {
   "attachments": {},
   "cell_type": "markdown",
   "id": "427a7189-cd59-4ee3-a88a-be272018ad31",
   "metadata": {},
   "source": [
    "## Tasks"
   ]
  },
  {
   "attachments": {},
   "cell_type": "markdown",
   "id": "785a310e-b828-476a-b2df-9bf01adc2b6a",
   "metadata": {},
   "source": [
    "Feature 7 and 8 seem to be important features for the model (with coefficients > 30!). However, taking a closer look, they are both binary, mutually exclusive, and nearly cover the whole dataset. Also they are barely correlated to the outcome by themselves. I would not expect them to both have such a high importance for the model and on top of that both positive! What is going on?"
   ]
  },
  {
   "cell_type": "code",
   "execution_count": null,
   "id": "f7d41074-baeb-4a9c-8fde-ea6f23dfd01b",
   "metadata": {},
   "outputs": [],
   "source": []
  }
 ],
 "metadata": {
  "kernelspec": {
   "display_name": "pregnancy-vaccine",
   "language": "python",
   "name": "pregnancy-vaccine"
  },
  "language_info": {
   "codemirror_mode": {
    "name": "ipython",
    "version": 3
   },
   "file_extension": ".py",
   "mimetype": "text/x-python",
   "name": "python",
   "nbconvert_exporter": "python",
   "pygments_lexer": "ipython3",
   "version": "3.10.11"
  }
 },
 "nbformat": 4,
 "nbformat_minor": 5
}
