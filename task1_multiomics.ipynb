{
 "cells": [
  {
   "attachments": {},
   "cell_type": "markdown",
   "id": "53ad851c-e846-46f8-bfb0-bdcc5a8abb71",
   "metadata": {},
   "source": [
    "# Multiomics modeling"
   ]
  },
  {
   "attachments": {},
   "cell_type": "markdown",
   "id": "056d3afb-59b4-485d-983d-a4fc4328edc5",
   "metadata": {},
   "source": [
    "Let's look at the paper *\"Multiomics modeling of the immunome, transcriptome, microbiome, proteome and metabolome adaptations during human pregnancy\"* by **Ghaemi et al. 2019** (`task1_multiomics_ghaemi2019multiomics.pdf`).\n",
    "The idea is to use different modalities (measurements collected from the immune system, microbiome, etc.) to characterize biological changes during pregnancy. \n",
    "This includes whether we can predict the gestational age of a mother solely based on the collected biomarkers.\n",
    "\n",
    "**Note**: There is no need to get accquainted with multiomics modeling, at least for this exercise. In the end, this is just a regular data science task :) "
   ]
  },
  {
   "attachments": {},
   "cell_type": "markdown",
   "id": "4010abf9-7c7d-438e-99cf-1678b84962fe",
   "metadata": {},
   "source": [
    "## Load the data"
   ]
  },
  {
   "attachments": {},
   "cell_type": "markdown",
   "id": "a012e941-6fb3-41f7-9f0e-1f4ebcec56ad",
   "metadata": {},
   "source": [
    "Load the data from `multiomics_data.pickle` using `pickle`. You will get a [pandas](https://pandas.pydata.org/docs/user_guide/10min.html) DataFrame containing preprocessed data from the paper (the original data from their paper is a bit messy). The data contains several meta attributes as well as the different modalities.\n",
    "\n",
    "Meta attributes include:\n",
    "\n",
    "* `Sex`: sex of the baby\n",
    "* `timepoint`: 1-3 correspond to the three trimesters, 4 corresponds to postpartum\n",
    "* `gestational_age`: time of sampling"
   ]
  },
  {
   "attachments": {},
   "cell_type": "markdown",
   "id": "b33f1174-8326-4fb5-a5fa-649a41f64401",
   "metadata": {},
   "source": [
    "Modalites are:\n",
    "    \n",
    "* `cellfree_rna`\n",
    "* `metabolomics`\n",
    "* `microbiome`\n",
    "* `plasma_luminex`\n",
    "* `serum_luminex`\n",
    "* `immune_system`\n",
    "* `plasma_somalogic`"
   ]
  },
  {
   "attachments": {},
   "cell_type": "markdown",
   "id": "1eafff87-3cc6-4571-aab3-45125c607f37",
   "metadata": {},
   "source": [
    "For more details pleaase see the paper."
   ]
  },
  {
   "cell_type": "code",
   "execution_count": 1,
   "id": "256a11a9-81de-478e-99e1-17e0a8a5a837",
   "metadata": {},
   "outputs": [
    {
     "data": {
      "text/html": [
       "<div>\n",
       "<style scoped>\n",
       "    .dataframe tbody tr th:only-of-type {\n",
       "        vertical-align: middle;\n",
       "    }\n",
       "\n",
       "    .dataframe tbody tr th {\n",
       "        vertical-align: top;\n",
       "    }\n",
       "\n",
       "    .dataframe thead tr th {\n",
       "        text-align: left;\n",
       "    }\n",
       "</style>\n",
       "<table border=\"1\" class=\"dataframe\">\n",
       "  <thead>\n",
       "    <tr>\n",
       "      <th></th>\n",
       "      <th>Training/Validation</th>\n",
       "      <th>Gates ID</th>\n",
       "      <th>MRN</th>\n",
       "      <th>Study Subject ID Number</th>\n",
       "      <th>Sex</th>\n",
       "      <th>sex_bin</th>\n",
       "      <th>timepoint</th>\n",
       "      <th>gestational_age</th>\n",
       "      <th colspan=\"2\" halign=\"left\">cellfree_rna</th>\n",
       "      <th>...</th>\n",
       "      <th colspan=\"10\" halign=\"left\">plasma_somalogic</th>\n",
       "    </tr>\n",
       "    <tr>\n",
       "      <th></th>\n",
       "      <th></th>\n",
       "      <th></th>\n",
       "      <th></th>\n",
       "      <th></th>\n",
       "      <th></th>\n",
       "      <th></th>\n",
       "      <th></th>\n",
       "      <th></th>\n",
       "      <th>0_C2orf76</th>\n",
       "      <th>1_ACTL10</th>\n",
       "      <th>...</th>\n",
       "      <th>1290_UBE2G2</th>\n",
       "      <th>1291_TAGLN2</th>\n",
       "      <th>1292_ATP5O</th>\n",
       "      <th>1293_POMC</th>\n",
       "      <th>1294_CRYZL1</th>\n",
       "      <th>1295_SERPINF1</th>\n",
       "      <th>1296_CTSF</th>\n",
       "      <th>1297_FTCD</th>\n",
       "      <th>1298_USP25</th>\n",
       "      <th>1299_PLXNB2</th>\n",
       "    </tr>\n",
       "  </thead>\n",
       "  <tbody>\n",
       "    <tr>\n",
       "      <th>0</th>\n",
       "      <td>T</td>\n",
       "      <td>PTLG002</td>\n",
       "      <td>16661779</td>\n",
       "      <td>10565</td>\n",
       "      <td>Male</td>\n",
       "      <td>1</td>\n",
       "      <td>1</td>\n",
       "      <td>11</td>\n",
       "      <td>0.312437</td>\n",
       "      <td>-1.892930e-16</td>\n",
       "      <td>...</td>\n",
       "      <td>4804.4</td>\n",
       "      <td>2233.0</td>\n",
       "      <td>3610.9</td>\n",
       "      <td>715.8</td>\n",
       "      <td>151.4</td>\n",
       "      <td>37885.8</td>\n",
       "      <td>1479.1</td>\n",
       "      <td>3261.8</td>\n",
       "      <td>561.3</td>\n",
       "      <td>3227.0</td>\n",
       "    </tr>\n",
       "    <tr>\n",
       "      <th>1</th>\n",
       "      <td>T</td>\n",
       "      <td>PTLG002</td>\n",
       "      <td>16661779</td>\n",
       "      <td>10565</td>\n",
       "      <td>Male</td>\n",
       "      <td>1</td>\n",
       "      <td>2</td>\n",
       "      <td>18</td>\n",
       "      <td>0.312437</td>\n",
       "      <td>-1.892930e-16</td>\n",
       "      <td>...</td>\n",
       "      <td>4086.0</td>\n",
       "      <td>2160.5</td>\n",
       "      <td>2260.4</td>\n",
       "      <td>825.2</td>\n",
       "      <td>161.0</td>\n",
       "      <td>41821.5</td>\n",
       "      <td>1465.1</td>\n",
       "      <td>1839.8</td>\n",
       "      <td>597.8</td>\n",
       "      <td>3366.0</td>\n",
       "    </tr>\n",
       "    <tr>\n",
       "      <th>2</th>\n",
       "      <td>T</td>\n",
       "      <td>PTLG002</td>\n",
       "      <td>16661779</td>\n",
       "      <td>10565</td>\n",
       "      <td>Male</td>\n",
       "      <td>1</td>\n",
       "      <td>3</td>\n",
       "      <td>32</td>\n",
       "      <td>0.312437</td>\n",
       "      <td>-1.892930e-16</td>\n",
       "      <td>...</td>\n",
       "      <td>4328.0</td>\n",
       "      <td>1818.4</td>\n",
       "      <td>2445.2</td>\n",
       "      <td>1241.8</td>\n",
       "      <td>194.6</td>\n",
       "      <td>45526.1</td>\n",
       "      <td>1428.3</td>\n",
       "      <td>3057.2</td>\n",
       "      <td>625.7</td>\n",
       "      <td>8703.7</td>\n",
       "    </tr>\n",
       "    <tr>\n",
       "      <th>3</th>\n",
       "      <td>T</td>\n",
       "      <td>PTLG002</td>\n",
       "      <td>16661779</td>\n",
       "      <td>10565</td>\n",
       "      <td>Male</td>\n",
       "      <td>1</td>\n",
       "      <td>4</td>\n",
       "      <td>45</td>\n",
       "      <td>0.312437</td>\n",
       "      <td>-1.892930e-16</td>\n",
       "      <td>...</td>\n",
       "      <td>3442.4</td>\n",
       "      <td>2661.4</td>\n",
       "      <td>3879.2</td>\n",
       "      <td>703.6</td>\n",
       "      <td>153.7</td>\n",
       "      <td>36862.5</td>\n",
       "      <td>1063.6</td>\n",
       "      <td>7339.7</td>\n",
       "      <td>593.2</td>\n",
       "      <td>2918.9</td>\n",
       "    </tr>\n",
       "    <tr>\n",
       "      <th>4</th>\n",
       "      <td>T</td>\n",
       "      <td>PTLG004</td>\n",
       "      <td>23587868</td>\n",
       "      <td>10603</td>\n",
       "      <td>Female</td>\n",
       "      <td>0</td>\n",
       "      <td>1</td>\n",
       "      <td>11</td>\n",
       "      <td>5.204209</td>\n",
       "      <td>1.734736e+00</td>\n",
       "      <td>...</td>\n",
       "      <td>4261.9</td>\n",
       "      <td>1804.6</td>\n",
       "      <td>1470.6</td>\n",
       "      <td>526.8</td>\n",
       "      <td>163.0</td>\n",
       "      <td>38938.3</td>\n",
       "      <td>1170.1</td>\n",
       "      <td>1036.8</td>\n",
       "      <td>552.8</td>\n",
       "      <td>3457.1</td>\n",
       "    </tr>\n",
       "  </tbody>\n",
       "</table>\n",
       "<p>5 rows × 61274 columns</p>\n",
       "</div>"
      ],
      "text/plain": [
       "  Training/Validation Gates ID       MRN Study Subject ID Number     Sex  \\\n",
       "                                                                           \n",
       "0                   T  PTLG002  16661779                   10565    Male   \n",
       "1                   T  PTLG002  16661779                   10565    Male   \n",
       "2                   T  PTLG002  16661779                   10565    Male   \n",
       "3                   T  PTLG002  16661779                   10565    Male   \n",
       "4                   T  PTLG004  23587868                   10603  Female   \n",
       "\n",
       "  sex_bin timepoint gestational_age cellfree_rna                ...  \\\n",
       "                                       0_C2orf76      1_ACTL10  ...   \n",
       "0       1         1              11     0.312437 -1.892930e-16  ...   \n",
       "1       1         2              18     0.312437 -1.892930e-16  ...   \n",
       "2       1         3              32     0.312437 -1.892930e-16  ...   \n",
       "3       1         4              45     0.312437 -1.892930e-16  ...   \n",
       "4       0         1              11     5.204209  1.734736e+00  ...   \n",
       "\n",
       "  plasma_somalogic                                                             \\\n",
       "       1290_UBE2G2 1291_TAGLN2 1292_ATP5O 1293_POMC 1294_CRYZL1 1295_SERPINF1   \n",
       "0           4804.4      2233.0     3610.9     715.8       151.4       37885.8   \n",
       "1           4086.0      2160.5     2260.4     825.2       161.0       41821.5   \n",
       "2           4328.0      1818.4     2445.2    1241.8       194.6       45526.1   \n",
       "3           3442.4      2661.4     3879.2     703.6       153.7       36862.5   \n",
       "4           4261.9      1804.6     1470.6     526.8       163.0       38938.3   \n",
       "\n",
       "                                              \n",
       "  1296_CTSF 1297_FTCD 1298_USP25 1299_PLXNB2  \n",
       "0    1479.1    3261.8      561.3      3227.0  \n",
       "1    1465.1    1839.8      597.8      3366.0  \n",
       "2    1428.3    3057.2      625.7      8703.7  \n",
       "3    1063.6    7339.7      593.2      2918.9  \n",
       "4    1170.1    1036.8      552.8      3457.1  \n",
       "\n",
       "[5 rows x 61274 columns]"
      ]
     },
     "execution_count": 1,
     "metadata": {},
     "output_type": "execute_result"
    }
   ],
   "source": [
    "# code for loading the data\n",
    "\n",
    "import numpy as np\n",
    "import pickle\n",
    "\n",
    "with open(\"task1_multiomics_data.pickle\", \"rb\") as file:\n",
    "    data_multiomics = pickle.load(file)\n",
    "    \n",
    "data_multiomics.head(5)"
   ]
  },
  {
   "cell_type": "code",
   "execution_count": 4,
   "id": "601e700b-6ab9-488c-821a-f59870e8d5e8",
   "metadata": {},
   "outputs": [
    {
     "data": {
      "text/html": [
       "<div>\n",
       "<style scoped>\n",
       "    .dataframe tbody tr th:only-of-type {\n",
       "        vertical-align: middle;\n",
       "    }\n",
       "\n",
       "    .dataframe tbody tr th {\n",
       "        vertical-align: top;\n",
       "    }\n",
       "\n",
       "    .dataframe thead th {\n",
       "        text-align: right;\n",
       "    }\n",
       "</style>\n",
       "<table border=\"1\" class=\"dataframe\">\n",
       "  <thead>\n",
       "    <tr style=\"text-align: right;\">\n",
       "      <th></th>\n",
       "      <th>0_Bcells</th>\n",
       "      <th>1_CD16+CD56-NKcells</th>\n",
       "      <th>2_CD4+Tcells_mem</th>\n",
       "      <th>3_CD4+Tcells_naive</th>\n",
       "      <th>4_CD4+Tcells</th>\n",
       "      <th>5_CD45RA+Tregs</th>\n",
       "      <th>6_CD45RA-Tregs</th>\n",
       "      <th>7_CD56+CD16-NKcells</th>\n",
       "      <th>8_CD7+NKcells</th>\n",
       "      <th>9_CD8+Tcells_mem</th>\n",
       "      <th>...</th>\n",
       "      <th>524_M-MDSC_STAT5_Unstim</th>\n",
       "      <th>525_mDCs_STAT5_Unstim</th>\n",
       "      <th>526_ncMCs_STAT5_Unstim</th>\n",
       "      <th>527_pDCs_STAT5_Unstim</th>\n",
       "      <th>528_Tbet+CD4+Tcells_mem_STAT5_Unstim</th>\n",
       "      <th>529_Tbet+CD4+Tcells_naive_STAT5_Unstim</th>\n",
       "      <th>530_Tbet+CD8+Tcells_mem_STAT5_Unstim</th>\n",
       "      <th>531_Tbet+CD8+Tcells_naive_STAT5_Unstim</th>\n",
       "      <th>532_TCRgd+Tcells_STAT5_Unstim</th>\n",
       "      <th>533_Tregs_STAT5_Unstim</th>\n",
       "    </tr>\n",
       "  </thead>\n",
       "  <tbody>\n",
       "    <tr>\n",
       "      <th>0</th>\n",
       "      <td>0.053164</td>\n",
       "      <td>0.054978</td>\n",
       "      <td>0.297875</td>\n",
       "      <td>0.136289</td>\n",
       "      <td>0.445832</td>\n",
       "      <td>0.002570</td>\n",
       "      <td>0.013848</td>\n",
       "      <td>0.007052</td>\n",
       "      <td>0.070836</td>\n",
       "      <td>0.118884</td>\n",
       "      <td>...</td>\n",
       "      <td>0.998954</td>\n",
       "      <td>0.953637</td>\n",
       "      <td>1.082629</td>\n",
       "      <td>0.808610</td>\n",
       "      <td>0.504269</td>\n",
       "      <td>0.757424</td>\n",
       "      <td>0.462045</td>\n",
       "      <td>0.454665</td>\n",
       "      <td>0.443859</td>\n",
       "      <td>0.529431</td>\n",
       "    </tr>\n",
       "    <tr>\n",
       "      <th>1</th>\n",
       "      <td>0.052857</td>\n",
       "      <td>0.069794</td>\n",
       "      <td>0.279917</td>\n",
       "      <td>0.140350</td>\n",
       "      <td>0.430839</td>\n",
       "      <td>0.002470</td>\n",
       "      <td>0.010923</td>\n",
       "      <td>0.004759</td>\n",
       "      <td>0.080245</td>\n",
       "      <td>0.127831</td>\n",
       "      <td>...</td>\n",
       "      <td>0.930847</td>\n",
       "      <td>0.822618</td>\n",
       "      <td>0.931126</td>\n",
       "      <td>0.728738</td>\n",
       "      <td>0.613059</td>\n",
       "      <td>0.852393</td>\n",
       "      <td>0.506981</td>\n",
       "      <td>0.474408</td>\n",
       "      <td>0.491691</td>\n",
       "      <td>0.574133</td>\n",
       "    </tr>\n",
       "    <tr>\n",
       "      <th>2</th>\n",
       "      <td>0.053202</td>\n",
       "      <td>0.050829</td>\n",
       "      <td>0.277997</td>\n",
       "      <td>0.187659</td>\n",
       "      <td>0.479078</td>\n",
       "      <td>0.003473</td>\n",
       "      <td>0.013359</td>\n",
       "      <td>0.005302</td>\n",
       "      <td>0.063781</td>\n",
       "      <td>0.104513</td>\n",
       "      <td>...</td>\n",
       "      <td>1.077824</td>\n",
       "      <td>0.970954</td>\n",
       "      <td>1.011011</td>\n",
       "      <td>0.749277</td>\n",
       "      <td>0.752882</td>\n",
       "      <td>0.813249</td>\n",
       "      <td>0.560379</td>\n",
       "      <td>0.481862</td>\n",
       "      <td>0.505706</td>\n",
       "      <td>0.640245</td>\n",
       "    </tr>\n",
       "    <tr>\n",
       "      <th>3</th>\n",
       "      <td>0.049906</td>\n",
       "      <td>0.090496</td>\n",
       "      <td>0.266336</td>\n",
       "      <td>0.156263</td>\n",
       "      <td>0.432904</td>\n",
       "      <td>0.003071</td>\n",
       "      <td>0.014459</td>\n",
       "      <td>0.004318</td>\n",
       "      <td>0.101386</td>\n",
       "      <td>0.115243</td>\n",
       "      <td>...</td>\n",
       "      <td>0.976888</td>\n",
       "      <td>0.918164</td>\n",
       "      <td>1.028114</td>\n",
       "      <td>0.790166</td>\n",
       "      <td>0.505349</td>\n",
       "      <td>0.648406</td>\n",
       "      <td>0.464522</td>\n",
       "      <td>0.445444</td>\n",
       "      <td>0.438285</td>\n",
       "      <td>0.573058</td>\n",
       "    </tr>\n",
       "    <tr>\n",
       "      <th>4</th>\n",
       "      <td>0.103067</td>\n",
       "      <td>0.004128</td>\n",
       "      <td>0.162746</td>\n",
       "      <td>0.103950</td>\n",
       "      <td>0.270840</td>\n",
       "      <td>0.003198</td>\n",
       "      <td>0.007988</td>\n",
       "      <td>0.007153</td>\n",
       "      <td>0.090763</td>\n",
       "      <td>0.057064</td>\n",
       "      <td>...</td>\n",
       "      <td>0.890405</td>\n",
       "      <td>0.800468</td>\n",
       "      <td>1.067789</td>\n",
       "      <td>0.563615</td>\n",
       "      <td>0.464563</td>\n",
       "      <td>1.004497</td>\n",
       "      <td>0.378557</td>\n",
       "      <td>0.423530</td>\n",
       "      <td>0.332368</td>\n",
       "      <td>0.447904</td>\n",
       "    </tr>\n",
       "  </tbody>\n",
       "</table>\n",
       "<p>5 rows × 534 columns</p>\n",
       "</div>"
      ],
      "text/plain": [
       "   0_Bcells  1_CD16+CD56-NKcells  2_CD4+Tcells_mem  3_CD4+Tcells_naive  \\\n",
       "0  0.053164             0.054978          0.297875            0.136289   \n",
       "1  0.052857             0.069794          0.279917            0.140350   \n",
       "2  0.053202             0.050829          0.277997            0.187659   \n",
       "3  0.049906             0.090496          0.266336            0.156263   \n",
       "4  0.103067             0.004128          0.162746            0.103950   \n",
       "\n",
       "   4_CD4+Tcells  5_CD45RA+Tregs  6_CD45RA-Tregs  7_CD56+CD16-NKcells  \\\n",
       "0      0.445832        0.002570        0.013848             0.007052   \n",
       "1      0.430839        0.002470        0.010923             0.004759   \n",
       "2      0.479078        0.003473        0.013359             0.005302   \n",
       "3      0.432904        0.003071        0.014459             0.004318   \n",
       "4      0.270840        0.003198        0.007988             0.007153   \n",
       "\n",
       "   8_CD7+NKcells  9_CD8+Tcells_mem  ...  524_M-MDSC_STAT5_Unstim  \\\n",
       "0       0.070836          0.118884  ...                 0.998954   \n",
       "1       0.080245          0.127831  ...                 0.930847   \n",
       "2       0.063781          0.104513  ...                 1.077824   \n",
       "3       0.101386          0.115243  ...                 0.976888   \n",
       "4       0.090763          0.057064  ...                 0.890405   \n",
       "\n",
       "   525_mDCs_STAT5_Unstim  526_ncMCs_STAT5_Unstim  527_pDCs_STAT5_Unstim  \\\n",
       "0               0.953637                1.082629               0.808610   \n",
       "1               0.822618                0.931126               0.728738   \n",
       "2               0.970954                1.011011               0.749277   \n",
       "3               0.918164                1.028114               0.790166   \n",
       "4               0.800468                1.067789               0.563615   \n",
       "\n",
       "   528_Tbet+CD4+Tcells_mem_STAT5_Unstim  \\\n",
       "0                              0.504269   \n",
       "1                              0.613059   \n",
       "2                              0.752882   \n",
       "3                              0.505349   \n",
       "4                              0.464563   \n",
       "\n",
       "   529_Tbet+CD4+Tcells_naive_STAT5_Unstim  \\\n",
       "0                                0.757424   \n",
       "1                                0.852393   \n",
       "2                                0.813249   \n",
       "3                                0.648406   \n",
       "4                                1.004497   \n",
       "\n",
       "   530_Tbet+CD8+Tcells_mem_STAT5_Unstim  \\\n",
       "0                              0.462045   \n",
       "1                              0.506981   \n",
       "2                              0.560379   \n",
       "3                              0.464522   \n",
       "4                              0.378557   \n",
       "\n",
       "   531_Tbet+CD8+Tcells_naive_STAT5_Unstim  532_TCRgd+Tcells_STAT5_Unstim  \\\n",
       "0                                0.454665                       0.443859   \n",
       "1                                0.474408                       0.491691   \n",
       "2                                0.481862                       0.505706   \n",
       "3                                0.445444                       0.438285   \n",
       "4                                0.423530                       0.332368   \n",
       "\n",
       "   533_Tregs_STAT5_Unstim  \n",
       "0                0.529431  \n",
       "1                0.574133  \n",
       "2                0.640245  \n",
       "3                0.573058  \n",
       "4                0.447904  \n",
       "\n",
       "[5 rows x 534 columns]"
      ]
     },
     "execution_count": 4,
     "metadata": {},
     "output_type": "execute_result"
    }
   ],
   "source": [
    "# look at the immune system\n",
    "data_multiomics[\"immune_system\"].head(5)"
   ]
  },
  {
   "cell_type": "code",
   "execution_count": 122,
   "id": "16c9998f",
   "metadata": {},
   "outputs": [
    {
     "data": {
      "text/plain": [
       "(68, 534)"
      ]
     },
     "execution_count": 122,
     "metadata": {},
     "output_type": "execute_result"
    }
   ],
   "source": [
    "data_multiomics[\"immune_system\"].shape"
   ]
  },
  {
   "cell_type": "code",
   "execution_count": 9,
   "id": "392cfbdc",
   "metadata": {},
   "outputs": [],
   "source": [
    "# look at the immune system\n",
    "data_multiomics[\"gestational_age\"].head(5)\n",
    "y = data_multiomics[\"gestational_age\"].values\n",
    "X = data_multiomics[\"immune_system\"].values"
   ]
  },
  {
   "cell_type": "code",
   "execution_count": 16,
   "id": "f5943d42",
   "metadata": {},
   "outputs": [],
   "source": [
    "from sklearn.model_selection import train_test_split\n",
    "from sklearn.metrics import classification_report\n",
    "from sklearn import svm"
   ]
  },
  {
   "cell_type": "code",
   "execution_count": 37,
   "id": "d360b859",
   "metadata": {},
   "outputs": [],
   "source": [
    "X_train, X_test, y_train, y_test = train_test_split(X, y, test_size=0.33, random_state=42)"
   ]
  },
  {
   "cell_type": "code",
   "execution_count": 42,
   "id": "dc4ab748",
   "metadata": {},
   "outputs": [
    {
     "name": "stdout",
     "output_type": "stream",
     "text": [
      "              precision    recall  f1-score   support\n",
      "\n",
      "           8       0.00      0.00      0.00         1\n",
      "          11       0.22      1.00      0.36         5\n",
      "          15       0.00      0.00      0.00         4\n",
      "          16       0.00      0.00      0.00         1\n",
      "          18       0.00      0.00      0.00         2\n",
      "          19       0.00      0.00      0.00         1\n",
      "          26       0.00      0.00      0.00         1\n",
      "          27       0.00      0.00      0.00         1\n",
      "          28       0.00      0.00      0.00         2\n",
      "          43       0.00      0.00      0.00         2\n",
      "          45       0.00      0.00      0.00         1\n",
      "          48       0.00      0.00      0.00         2\n",
      "\n",
      "    accuracy                           0.22        23\n",
      "   macro avg       0.02      0.08      0.03        23\n",
      "weighted avg       0.05      0.22      0.08        23\n",
      "\n"
     ]
    },
    {
     "name": "stderr",
     "output_type": "stream",
     "text": [
      "c:\\Users\\Abdoul\\anaconda3\\lib\\site-packages\\sklearn\\metrics\\_classification.py:1344: UndefinedMetricWarning: Precision and F-score are ill-defined and being set to 0.0 in labels with no predicted samples. Use `zero_division` parameter to control this behavior.\n",
      "  _warn_prf(average, modifier, msg_start, len(result))\n",
      "c:\\Users\\Abdoul\\anaconda3\\lib\\site-packages\\sklearn\\metrics\\_classification.py:1344: UndefinedMetricWarning: Precision and F-score are ill-defined and being set to 0.0 in labels with no predicted samples. Use `zero_division` parameter to control this behavior.\n",
      "  _warn_prf(average, modifier, msg_start, len(result))\n",
      "c:\\Users\\Abdoul\\anaconda3\\lib\\site-packages\\sklearn\\metrics\\_classification.py:1344: UndefinedMetricWarning: Precision and F-score are ill-defined and being set to 0.0 in labels with no predicted samples. Use `zero_division` parameter to control this behavior.\n",
      "  _warn_prf(average, modifier, msg_start, len(result))\n"
     ]
    }
   ],
   "source": [
    "### SVM\n",
    "clf = svm.SVC()\n",
    "clf.fit(X_train, y_train)\n",
    "# make prediction\n",
    "y_pred = clf.predict(X_test)\n",
    "print(classification_report(y_test, y_pred))"
   ]
  },
  {
   "cell_type": "code",
   "execution_count": 43,
   "id": "4b5bbac3",
   "metadata": {},
   "outputs": [
    {
     "data": {
      "text/plain": [
       "array([ 8, 10, 11, 12, 15, 16, 17, 18, 19, 24, 25, 26, 27, 28, 31, 32, 42,\n",
       "       43, 44, 45, 46, 47, 48], dtype=int64)"
      ]
     },
     "execution_count": 43,
     "metadata": {},
     "output_type": "execute_result"
    }
   ],
   "source": [
    "np.unique(y)"
   ]
  },
  {
   "cell_type": "code",
   "execution_count": null,
   "id": "60889ce8",
   "metadata": {},
   "outputs": [],
   "source": [
    "### Decision Tree\n",
    "from sklearn.tree import DecisionTreeClassifier\n",
    "dec_tree = DecisionTreeClassifier()\n",
    "dec_tree.fit(X_train, y_train)\n",
    "\n",
    "#### make prediction\n",
    "y_pred = dec_tree.predict(X_test)\n",
    "print(classification_report(y_test, y_pred))"
   ]
  },
  {
   "cell_type": "code",
   "execution_count": null,
   "id": "a2f344db",
   "metadata": {},
   "outputs": [],
   "source": [
    "### Naive Bayes\n",
    "from sklearn.naive_bayes import GaussianNB\n",
    "gnb = GaussianNB()\n",
    "gnb.fit(X_train, y_train)\n",
    "\n",
    "#### make prediction\n",
    "y_pred = gnb.predict(X_test)\n",
    "print(classification_report(y_test, y_pred))"
   ]
  },
  {
   "cell_type": "code",
   "execution_count": null,
   "id": "8dc91b77",
   "metadata": {},
   "outputs": [],
   "source": [
    "### Logistic Regression\n",
    "from sklearn.linear_model import LogisticRegression\n",
    "log_reg = LogisticRegression()\n",
    "log_reg.fit(X_train, y_train)\n",
    "\n",
    "#### make prediction\n",
    "y_pred = log_reg.predict(X_test)\n",
    "print(classification_report(y_test, y_pred))"
   ]
  },
  {
   "cell_type": "code",
   "execution_count": 114,
   "id": "d1a0c4e5",
   "metadata": {},
   "outputs": [],
   "source": [
    "from sklearn.svm import SVR\n",
    "from sklearn.linear_model import LinearRegression as Lnr\n",
    "from sklearn.linear_model import SGDRegressor as Sgdr\n",
    "from sklearn.ensemble import GradientBoostingRegressor as Gbr\n",
    "from sklearn.linear_model import ElasticNet as En\n",
    "from sklearn.linear_model import BayesianRidge as Br\n",
    "from sklearn.kernel_ridge import KernelRidge as Kr\n",
    "from sklearn.neighbors import KNeighborsRegressor as Neigh\n",
    "from sklearn.pipeline import make_pipeline\n",
    "from sklearn.preprocessing import StandardScaler\n",
    "import numpy as np\n",
    "from sklearn.metrics import mean_squared_error as mse"
   ]
  },
  {
   "cell_type": "code",
   "execution_count": 115,
   "id": "aebbb1ca",
   "metadata": {},
   "outputs": [],
   "source": [
    "scalerY = StandardScaler()\n",
    "scalerX = StandardScaler()\n",
    "\n",
    "scalerY.fit(y.reshape(-1,1))\n",
    "scalerX.fit(X)\n",
    "y_ = scalerY.transform(y.reshape(-1,1)).flatten()\n",
    "X_ = scalerX.transform(X)\n",
    "\n",
    "X_train, X_test, y_train, y_test = train_test_split(X_, y_, test_size=0.33, random_state=42)\n",
    "\n",
    "\n"
   ]
  },
  {
   "cell_type": "code",
   "execution_count": 121,
   "id": "bd1e66ac",
   "metadata": {},
   "outputs": [
    {
     "name": "stdout",
     "output_type": "stream",
     "text": [
      "68\n"
     ]
    }
   ],
   "source": [
    "print(len(y))"
   ]
  },
  {
   "cell_type": "code",
   "execution_count": 126,
   "id": "967ddc1a",
   "metadata": {},
   "outputs": [
    {
     "name": "stdout",
     "output_type": "stream",
     "text": [
      "[16. 18. 40. 18.  7. 16. 27. 17. 15. 23. 13. 25. 41. 14. 25. 51. 26. 52.\n",
      " 30. 31.  0. 62. 13.] [28. 11. 11. 15.  8. 18. 28. 18. 15. 11. 15. 19. 48. 11. 26. 43. 16. 48.\n",
      " 27. 45. 11. 43. 15.]\n",
      "MSE --> BayesianRidge: 94.087\n",
      "[14. 17. 35. 16.  5. 14. 26. 12. 15. 23. 13. 25. 37. 14. 21. 46. 21. 50.\n",
      " 27. 29.  1. 59. 12.] [28. 11. 11. 15.  8. 18. 28. 18. 15. 11. 15. 19. 48. 11. 26. 43. 16. 48.\n",
      " 27. 45. 11. 43. 15.]\n",
      "MSE --> KernelRidge: 81.391\n",
      "[14. 22. 36. 34. 14. 28. 28. 20. 19. 29. 18. 20. 12. 32. 14. 14. 36. 36.\n",
      " 18. 14. 22. 36. 22.] [28. 11. 11. 15.  8. 18. 28. 18. 15. 11. 15. 19. 48. 11. 26. 43. 16. 48.\n",
      " 27. 45. 11. 43. 15.]\n",
      "MSE --> KNeighborsRegressor: 274.783\n"
     ]
    }
   ],
   "source": [
    "models = [SVR(C=9.0, epsilon=0.2), Lnr(), Sgdr(), Gbr(), En(), Br(), Kr(), Neigh(n_neighbors=2)]\n",
    "model_names = [\"SVM\", \"LinearRegression\", \"SGDRegressor\", \"GradientBoostingRegressor\", \"ElasticNet\", \"BayesianRidge\",\n",
    "               \"KernelRidge\", \"KNeighborsRegressor\"]\n",
    "results = []\n",
    "for model, name in zip(models[5:], model_names[5:]):\n",
    "    model.fit(X_train, y_train)\n",
    "    y_pred = model.predict(X_test)\n",
    "    \n",
    "    a = np.round(scalerY.inverse_transform(y_pred.reshape(-1,1)).flatten())\n",
    "    b = np.round(scalerY.inverse_transform(y_test.reshape(-1,1)).flatten())\n",
    "    err = mse(a,b)\n",
    "    print(a, b)\n",
    "    print(f\"MSE --> {name}: {err:.03f}\")\n",
    "    results.append(err)\n"
   ]
  },
  {
   "attachments": {},
   "cell_type": "markdown",
   "id": "0bb2e51b-5040-43b4-8c2b-5a5fe2b610ff",
   "metadata": {},
   "source": [
    "## Tasks"
   ]
  },
  {
   "attachments": {},
   "cell_type": "markdown",
   "id": "d4575569-097c-4466-9e87-6d9828438528",
   "metadata": {},
   "source": [
    "### Your experience"
   ]
  },
  {
   "attachments": {},
   "cell_type": "markdown",
   "id": "0aa66553-c955-4eb2-9d00-a743a3fa8f22",
   "metadata": {},
   "source": [
    "Before we start, please briefly describe your experience in data science and machine learning (5 sentences)."
   ]
  },
  {
   "attachments": {},
   "cell_type": "markdown",
   "id": "5f9bbac4-bf98-4086-b037-537dab6709af",
   "metadata": {},
   "source": [
    "> N/A"
   ]
  },
  {
   "attachments": {},
   "cell_type": "markdown",
   "id": "1e208e6c-6b53-4a94-a4d9-eea2545378a1",
   "metadata": {},
   "source": [
    "### Gestational Age"
   ]
  },
  {
   "attachments": {},
   "cell_type": "markdown",
   "id": "72f7cbc5-5d8e-4f45-aaa4-b2d90cfbfdf1",
   "metadata": {},
   "source": [
    "1. **Predict `gestational_age`** using the `immune_system` modality using at least two models (e.g., elastic net and support vector machines)\n",
    "\n",
    "2. **Evaluate** your models using a measure that you think fits best. If it is a different measure than in the paper, please briefly explain why.\n",
    "\n",
    "3. For your best model, **plot the model predictions** similar to **Figure 2D**.\n",
    "\n",
    "\n",
    "**Hint:** To train and evaluate models, you can use [scikit-learn](https://scikit-learn.org/stable/tutorial/basic/tutorial.html)."
   ]
  },
  {
   "attachments": {},
   "cell_type": "markdown",
   "id": "fd18c532-1f47-46eb-afd3-762fad1d1e72",
   "metadata": {
    "tags": []
   },
   "source": [
    "**Figure 2D:**<br/>\n",
    "<img src=\"assets/task1_multiomics_fig2d.jpeg\">"
   ]
  },
  {
   "cell_type": "code",
   "execution_count": null,
   "id": "58877194-bff2-462f-bbfc-c64b9ccf3f91",
   "metadata": {},
   "outputs": [],
   "source": []
  },
  {
   "attachments": {},
   "cell_type": "markdown",
   "id": "52ad8f7a-958f-44ec-8281-831e324b568d",
   "metadata": {},
   "source": [
    "### Sex of the baby"
   ]
  },
  {
   "attachments": {},
   "cell_type": "markdown",
   "id": "5b3a9325-f608-4833-8795-b831fa02b603",
   "metadata": {},
   "source": [
    "1. Try using a neural network in Tensorflow or PyTorch to predict the sex of the baby. \n",
    "2. Try to optimize the network the bast you can (don't spend too much time on this though)."
   ]
  },
  {
   "attachments": {},
   "cell_type": "markdown",
   "id": "23a2ee11-7db5-4672-a167-2970a51bbf21",
   "metadata": {},
   "source": []
  },
  {
   "attachments": {},
   "cell_type": "markdown",
   "id": "c81ed739-b7e3-4109-a4ff-2a32fc1bf2e0",
   "metadata": {},
   "source": [
    "### Feedback"
   ]
  },
  {
   "attachments": {},
   "cell_type": "markdown",
   "id": "2fd46904-f89c-44ee-9c4c-4c162f09d239",
   "metadata": {},
   "source": [
    "Were the tasks above difficult, easy, or a mixture? In both cases, briefly describe why."
   ]
  },
  {
   "cell_type": "code",
   "execution_count": null,
   "id": "665963ee-c99b-48d2-9f4c-082c1c5338d9",
   "metadata": {},
   "outputs": [],
   "source": []
  }
 ],
 "metadata": {
  "kernelspec": {
   "display_name": "base",
   "language": "python",
   "name": "python3"
  },
  "language_info": {
   "codemirror_mode": {
    "name": "ipython",
    "version": 3
   },
   "file_extension": ".py",
   "mimetype": "text/x-python",
   "name": "python",
   "nbconvert_exporter": "python",
   "pygments_lexer": "ipython3",
   "version": "3.10.9"
  },
  "toc-autonumbering": true
 },
 "nbformat": 4,
 "nbformat_minor": 5
}
